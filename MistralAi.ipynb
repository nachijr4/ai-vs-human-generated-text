{
 "cells": [
  {
   "cell_type": "code",
   "execution_count": 1,
   "id": "fbfe03cf-258d-4520-b16e-4a2bb92cb3ee",
   "metadata": {},
   "outputs": [
    {
     "name": "stderr",
     "output_type": "stream",
     "text": [
      "/home1/avuthu/.local/lib/python3.9/site-packages/tqdm/auto.py:21: TqdmWarning: IProgress not found. Please update jupyter and ipywidgets. See https://ipywidgets.readthedocs.io/en/stable/user_install.html\n",
      "  from .autonotebook import tqdm as notebook_tqdm\n",
      "Loading checkpoint shards: 100%|██████████| 2/2 [00:01<00:00,  1.27it/s]\n"
     ]
    }
   ],
   "source": [
    "# Load model directly\n",
    "from transformers import AutoTokenizer, AutoModelForCausalLM\n",
    "\n",
    "tokenizer = AutoTokenizer.from_pretrained(\"mistralai/Mistral-7B-Instruct-v0.1\")\n",
    "model = AutoModelForCausalLM.from_pretrained(\"mistralai/Mistral-7B-Instruct-v0.1\")"
   ]
  },
  {
   "cell_type": "code",
   "execution_count": 2,
   "id": "2ea381bd-4be8-4915-a661-515482be0b01",
   "metadata": {},
   "outputs": [
    {
     "name": "stderr",
     "output_type": "stream",
     "text": [
      "Loading checkpoint shards: 100%|██████████| 2/2 [00:02<00:00,  1.09s/it]\n",
      "The attention mask and the pad token id were not set. As a consequence, you may observe unexpected behavior. Please pass your input's `attention_mask` to obtain reliable results.\n",
      "Setting `pad_token_id` to `eos_token_id`:2 for open-end generation.\n"
     ]
    },
    {
     "name": "stdout",
     "output_type": "stream",
     "text": [
      "<s> [INST] Is the given text AI generated? Answer with Ans=1(AI generated) or Ans=0(Not AI generated) or Ans=-1(Not sure):We should keep the Electoral College for a number of reasons. While it is usually thought of as out of place, it is the fairest method in voting for our President. The Electoral College, first, the outcome of the Electoral vote is less likely to cause a dispute than the popular vote. Second, avoids the problem of Runoff Elections. Last, the Electoral College helps balance the political weight for large states by population. We need the Electoral College so not create any problems. The outcome of the Electoral College vote is less likely to cause a dispute than the popular vote. The number of electoral votes a candidate gets usually exceeds his popular vote. For example, Obama received 61.7 percent of the electoral vote compared to only 51.3 percent on the popular votes cast for him and Rodney. Since most of the states have a winnertakeall system, its easier to determine which candidate gets the electoral vote if there is a plurality in the state. A tie in the electoral vote is possible, but not very likely, even if the total is an even number. Voting based on the popular vote would just cause more problems than we would like to deal with. Runoff Elections are avoided because of the Electoral College. Runoff elections are elections that are caused when neither candidate receives a majority of the votes given. As the article states, Nixon in 1968 and Clinton in 1992 both had only 43 percent plurality of the popular votes, while winning a majority in the Electoral College 301 and 370 Electoral Votes. The Electoral College clearly shows who win without any complications that would create pressure for runoff Elections. We are received of this pressure because we have the Electoral College. Finally, the Electoral College helps balance the weight that large states lose because I urge this country to continue with the Electoral College as it always has! There may be better methods out there, but the Electoral College is the best system we have right now. [/INST] Ans=1 (AI generated)</s>\n"
     ]
    }
   ],
   "source": [
    "from transformers import AutoModelForCausalLM, AutoTokenizer\n",
    "\n",
    "device = \"cuda\" # the device to load the model onto\n",
    "\n",
    "model = AutoModelForCausalLM.from_pretrained(\"mistralai/Mistral-7B-Instruct-v0.1\")\n",
    "tokenizer = AutoTokenizer.from_pretrained(\"mistralai/Mistral-7B-Instruct-v0.1\")\n",
    "\n",
    "messages = [\n",
    "    {\"role\": \"user\", \"content\": \"Is the given text AI generated? Answer with Ans=1(AI generated) or Ans=0(Not AI generated) or Ans=-1(Not sure):We should keep the Electoral College for a number of reasons. While it is usually thought of as out of place, it is the fairest method in voting for our President. The Electoral College, first, the outcome of the Electoral vote is less likely to cause a dispute than the popular vote. Second, avoids the problem of Runoff Elections. Last, the Electoral College helps balance the political weight for large states by population. We need the Electoral College so not create any problems. The outcome of the Electoral College vote is less likely to cause a dispute than the popular vote. The number of electoral votes a candidate gets usually exceeds his popular vote. For example, Obama received 61.7 percent of the electoral vote compared to only 51.3 percent on the popular votes cast for him and Rodney. Since most of the states have a winnertakeall system, its easier to determine which candidate gets the electoral vote if there is a plurality in the state. A tie in the electoral vote is possible, but not very likely, even if the total is an even number. Voting based on the popular vote would just cause more problems than we would like to deal with. Runoff Elections are avoided because of the Electoral College. Runoff elections are elections that are caused when neither candidate receives a majority of the votes given. As the article states, Nixon in 1968 and Clinton in 1992 both had only 43 percent plurality of the popular votes, while winning a majority in the Electoral College 301 and 370 Electoral Votes. The Electoral College clearly shows who win without any complications that would create pressure for runoff Elections. We are received of this pressure because we have the Electoral College. Finally, the Electoral College helps balance the weight that large states lose because I urge this country to continue with the Electoral College as it always has! There may be better methods out there, but the Electoral College is the best system we have right now.\"}\n",
    "]\n",
    "encodeds = tokenizer.apply_chat_template(messages, return_tensors=\"pt\")\n",
    "\n",
    "#model_inputs = encodeds.to(device)\n",
    "#model.to(device)\n",
    "\n",
    "generated_ids = model.generate(encodeds, max_new_tokens=1000, do_sample=True)\n",
    "decoded = tokenizer.batch_decode(generated_ids)\n",
    "#print(decoded[0])"
   ]
  }
 ],
 "metadata": {
  "kernelspec": {
   "display_name": "avuthu_python_kernel",
   "language": "python",
   "name": "avuthu"
  },
  "language_info": {
   "codemirror_mode": {
    "name": "ipython",
    "version": 3
   },
   "file_extension": ".py",
   "mimetype": "text/x-python",
   "name": "python",
   "nbconvert_exporter": "python",
   "pygments_lexer": "ipython3",
   "version": "3.9.12"
  }
 },
 "nbformat": 4,
 "nbformat_minor": 5
}
